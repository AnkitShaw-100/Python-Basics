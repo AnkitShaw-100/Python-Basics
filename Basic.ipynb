{
  "nbformat": 4,
  "nbformat_minor": 0,
  "metadata": {
    "colab": {
      "provenance": [],
      "authorship_tag": "ABX9TyNEKHPZYtF7we3wm5lWlFw4",
      "include_colab_link": true
    },
    "kernelspec": {
      "name": "python3",
      "display_name": "Python 3"
    },
    "language_info": {
      "name": "python"
    }
  },
  "cells": [
    {
      "cell_type": "markdown",
      "metadata": {
        "id": "view-in-github",
        "colab_type": "text"
      },
      "source": [
        "<a href=\"https://colab.research.google.com/github/AnkitShaw-100/Python-Basics/blob/main/Basic.ipynb\" target=\"_parent\"><img src=\"https://colab.research.google.com/assets/colab-badge.svg\" alt=\"Open In Colab\"/></a>"
      ]
    },
    {
      "cell_type": "code",
      "execution_count": null,
      "metadata": {
        "id": "x_ocVpzIJnIL",
        "colab": {
          "base_uri": "https://localhost:8080/"
        },
        "outputId": "b34ebecb-a74a-4cb3-f640-0ea888ef559f"
      },
      "outputs": [
        {
          "output_type": "stream",
          "name": "stdout",
          "text": [
            "Hello, World!\n"
          ]
        }
      ],
      "source": [
        "print(\"Hello, World!\")"
      ]
    },
    {
      "cell_type": "code",
      "source": [
        "# Creating lists\n",
        "fruits = [\"mango\", \"grape\", \"orange\", \"mango\", \"orange\"]\n",
        "numbers = [10, 20, 30, 40, 50]\n",
        "booleans = [False, True, True]\n",
        "\n",
        "# Printing lists and their lengths\n",
        "print(\"Fruits:\", fruits)\n",
        "print(\"Length of fruits list:\", len(fruits))\n",
        "print(\"Numbers:\", numbers)\n",
        "print(\"Booleans:\", booleans)\n",
        "\n",
        "# Accessing elements\n",
        "print(\"Second fruit:\", fruits[1])  # Accessing by index\n",
        "print(\"Last number:\", numbers[-1])  # Negative index for last element\n",
        "\n",
        "# List slicing\n",
        "print(\"First three numbers:\", numbers[:3])  # Slicing first 3 elements\n",
        "print(\"Last two fruits:\", fruits[-2:])  # Last 2 elements\n",
        "\n",
        "# Updating list elements\n",
        "fruits[2] = \"pineapple\"\n",
        "print(\"Updated fruits list:\", fruits)\n",
        "\n",
        "# Adding elements\n",
        "fruits.append(\"banana\")  # Adds at the end\n",
        "numbers.insert(2, 25)  # Inserts at index 2\n",
        "print(\"Fruits after append:\", fruits)\n",
        "print(\"Numbers after insert:\", numbers)\n",
        "\n",
        "# Removing elements\n",
        "fruits.remove(\"mango\")  # Removes first occurrence\n",
        "removed_item = numbers.pop(3)  # Removes element at index 3\n",
        "print(\"Fruits after removal:\", fruits)\n",
        "print(\"Removed number:\", removed_item)\n",
        "\n",
        "# Sorting a list\n",
        "numbers.sort()  # Ascending order\n",
        "print(\"Sorted numbers:\", numbers)\n",
        "fruits.sort(reverse=True)  # Descending order\n",
        "print(\"Sorted fruits:\", fruits)\n",
        "\n",
        "# Copying a list\n",
        "fruits_copy = fruits.copy()\n",
        "print(\"Copied list:\", fruits_copy)\n",
        "\n",
        "# Checking if an element exists\n",
        "if \"banana\" in fruits:\n",
        "    print(\"Banana is in the list\")\n",
        "\n",
        "# Clearing a list\n",
        "booleans.clear()\n",
        "print(\"Booleans after clearing:\", booleans)\n"
      ],
      "metadata": {
        "colab": {
          "base_uri": "https://localhost:8080/"
        },
        "id": "ZDyi22Xd9Siq",
        "outputId": "c034ab42-6dcd-40fa-fca7-f571a7a71374"
      },
      "execution_count": null,
      "outputs": [
        {
          "output_type": "stream",
          "name": "stdout",
          "text": [
            "Fruits: ['mango', 'grape', 'orange', 'mango', 'orange']\n",
            "Length of fruits list: 5\n",
            "Numbers: [10, 20, 30, 40, 50]\n",
            "Booleans: [False, True, True]\n",
            "Second fruit: grape\n",
            "Last number: 50\n",
            "First three numbers: [10, 20, 30]\n",
            "Last two fruits: ['mango', 'orange']\n",
            "Updated fruits list: ['mango', 'grape', 'pineapple', 'mango', 'orange']\n",
            "Fruits after append: ['mango', 'grape', 'pineapple', 'mango', 'orange', 'banana']\n",
            "Numbers after insert: [10, 20, 25, 30, 40, 50]\n",
            "Fruits after removal: ['grape', 'pineapple', 'mango', 'orange', 'banana']\n",
            "Removed number: 30\n",
            "Sorted numbers: [10, 20, 25, 40, 50]\n",
            "Sorted fruits: ['pineapple', 'orange', 'mango', 'grape', 'banana']\n",
            "Copied list: ['pineapple', 'orange', 'mango', 'grape', 'banana']\n",
            "Banana is in the list\n",
            "Booleans after clearing: []\n"
          ]
        }
      ]
    },
    {
      "cell_type": "code",
      "source": [
        "# Creating tuples\n",
        "fruits = (\"mango\", \"grape\", \"orange\", \"mango\", \"orange\")\n",
        "numbers = (10, 20, 30, 40, 50)\n",
        "booleans = (False, True, True)\n",
        "\n",
        "# Printing tuples and their lengths\n",
        "print(\"Fruits:\", fruits)\n",
        "print(\"Length of fruits tuple:\", len(fruits))\n",
        "print(\"Numbers:\", numbers)\n",
        "print(\"Booleans:\", booleans)\n",
        "\n",
        "# Accessing elements\n",
        "print(\"Second fruit:\", fruits[1])  # Accessing by index\n",
        "print(\"Last number:\", numbers[-1])  # Negative index for last element\n",
        "\n",
        "# Tuple slicing\n",
        "print(\"First three numbers:\", numbers[:3])  # Slicing first 3 elements\n",
        "print(\"Last two fruits:\", fruits[-2:])  # Last 2 elements\n",
        "\n",
        "# Checking if an element exists\n",
        "if \"grape\" in fruits:\n",
        "    print(\"Grape is in the tuple\")\n",
        "\n",
        "# Counting occurrences\n",
        "print(\"Occurrences of 'mango':\", fruits.count(\"mango\"))\n",
        "\n",
        "# Finding index of an element\n",
        "print(\"Index of 'orange':\", fruits.index(\"orange\"))\n",
        "\n",
        "# Converting tuple to list (to modify elements)\n",
        "fruits_list = list(fruits)\n",
        "fruits_list.append(\"banana\")\n",
        "fruits = tuple(fruits_list)  # Converting back to tuple\n",
        "print(\"Updated tuple:\", fruits)\n"
      ],
      "metadata": {
        "colab": {
          "base_uri": "https://localhost:8080/"
        },
        "id": "xcHpIUko-Ll7",
        "outputId": "b485b11b-66fa-4293-ee8c-7fb899c79cda"
      },
      "execution_count": 8,
      "outputs": [
        {
          "output_type": "stream",
          "name": "stdout",
          "text": [
            "Fruits: ('mango', 'grape', 'orange', 'mango', 'orange')\n",
            "Length of fruits tuple: 5\n",
            "Numbers: (10, 20, 30, 40, 50)\n",
            "Booleans: (False, True, True)\n",
            "Second fruit: grape\n",
            "Last number: 50\n",
            "First three numbers: (10, 20, 30)\n",
            "Last two fruits: ('mango', 'orange')\n",
            "Grape is in the tuple\n",
            "Occurrences of 'mango': 2\n",
            "Index of 'orange': 2\n",
            "Updated tuple: ('mango', 'grape', 'orange', 'mango', 'orange', 'banana')\n"
          ]
        }
      ]
    },
    {
      "cell_type": "code",
      "source": [
        "# Creating a dictionary\n",
        "student = {\n",
        "    \"name\": \"Ankit\",\n",
        "    \"age\": 20,\n",
        "    \"city\": \"Delhi\",\n",
        "    \"marks\": {\"math\": 90, \"science\": 85}\n",
        "}\n",
        "\n",
        "# Printing dictionary\n",
        "print(\"Student details:\", student)\n",
        "\n",
        "# Accessing values\n",
        "print(\"Student name:\", student[\"name\"])\n",
        "print(\"Math marks:\", student[\"marks\"][\"math\"])\n",
        "\n",
        "# Using get() (to avoid errors)\n",
        "print(\"City:\", student.get(\"city\"))\n",
        "print(\"Phone:\", student.get(\"phone\", \"Not available\"))  # Default value if key is missing\n",
        "\n",
        "# Adding new key-value pairs\n",
        "student[\"gender\"] = \"Male\"\n",
        "print(\"Updated dictionary:\", student)\n",
        "\n",
        "# Updating values\n",
        "student[\"age\"] = 21\n",
        "print(\"Updated age:\", student)\n",
        "\n",
        "# Removing elements\n",
        "removed_city = student.pop(\"city\")  # Removes and returns value\n",
        "print(\"Removed city:\", removed_city)\n",
        "print(\"After removing city:\", student)\n",
        "\n",
        "# Checking if key exists\n",
        "if \"name\" in student:\n",
        "    print(\"Name exists in dictionary\")\n",
        "\n",
        "# Looping through dictionary\n",
        "print(\"Keys in student dictionary:\")\n",
        "for key in student:\n",
        "    print(key, \"->\", student[key])\n",
        "\n",
        "# Getting all keys and values\n",
        "print(\"All keys:\", student.keys())\n",
        "print(\"All values:\", student.values())\n",
        "\n",
        "# Copying dictionary\n",
        "student_copy = student.copy()\n",
        "print(\"Copied dictionary:\", student_copy)\n",
        "\n",
        "# Clearing dictionary\n",
        "student.clear()\n",
        "print(\"After clearing:\", student)\n"
      ],
      "metadata": {
        "colab": {
          "base_uri": "https://localhost:8080/"
        },
        "id": "t5ifSiqj-Ovy",
        "outputId": "2e0c957b-48b9-4553-e014-27d815bc56f1"
      },
      "execution_count": 9,
      "outputs": [
        {
          "output_type": "stream",
          "name": "stdout",
          "text": [
            "Student details: {'name': 'Ankit', 'age': 20, 'city': 'Delhi', 'marks': {'math': 90, 'science': 85}}\n",
            "Student name: Ankit\n",
            "Math marks: 90\n",
            "City: Delhi\n",
            "Phone: Not available\n",
            "Updated dictionary: {'name': 'Ankit', 'age': 20, 'city': 'Delhi', 'marks': {'math': 90, 'science': 85}, 'gender': 'Male'}\n",
            "Updated age: {'name': 'Ankit', 'age': 21, 'city': 'Delhi', 'marks': {'math': 90, 'science': 85}, 'gender': 'Male'}\n",
            "Removed city: Delhi\n",
            "After removing city: {'name': 'Ankit', 'age': 21, 'marks': {'math': 90, 'science': 85}, 'gender': 'Male'}\n",
            "Name exists in dictionary\n",
            "Keys in student dictionary:\n",
            "name -> Ankit\n",
            "age -> 21\n",
            "marks -> {'math': 90, 'science': 85}\n",
            "gender -> Male\n",
            "All keys: dict_keys(['name', 'age', 'marks', 'gender'])\n",
            "All values: dict_values(['Ankit', 21, {'math': 90, 'science': 85}, 'Male'])\n",
            "Copied dictionary: {'name': 'Ankit', 'age': 21, 'marks': {'math': 90, 'science': 85}, 'gender': 'Male'}\n",
            "After clearing: {}\n"
          ]
        }
      ]
    },
    {
      "cell_type": "code",
      "source": [
        "# Creating a tuple\n",
        "fruits = (\"apple\", \"banana\", \"cherry\", \"mango\")\n",
        "\n",
        "# Looping through a tuple (For loop)\n",
        "print(\"Fruits in tuple:\")\n",
        "for fruit in fruits:\n",
        "    print(fruit)\n",
        "\n",
        "# Using While loop to access elements\n",
        "i = 0\n",
        "while i < len(fruits):\n",
        "    print(f\"Fruit at index {i}: {fruits[i]}\")\n",
        "    i += 1\n",
        "\n",
        "# Loop with enumerate()\n",
        "print(\"Fruits with index:\")\n",
        "for index, fruit in enumerate(fruits):\n",
        "    print(index, \"->\", fruit)\n"
      ],
      "metadata": {
        "colab": {
          "base_uri": "https://localhost:8080/"
        },
        "id": "AhZJBVq9-X59",
        "outputId": "49feef43-1c97-40b6-8071-ff2625d7b1a8"
      },
      "execution_count": 11,
      "outputs": [
        {
          "output_type": "stream",
          "name": "stdout",
          "text": [
            "Fruits in tuple:\n",
            "apple\n",
            "banana\n",
            "cherry\n",
            "mango\n",
            "Fruit at index 0: apple\n",
            "Fruit at index 1: banana\n",
            "Fruit at index 2: cherry\n",
            "Fruit at index 3: mango\n",
            "Fruits with index:\n",
            "0 -> apple\n",
            "1 -> banana\n",
            "2 -> cherry\n",
            "3 -> mango\n"
          ]
        }
      ]
    },
    {
      "cell_type": "code",
      "source": [
        "# Creating a dictionary\n",
        "student = {\n",
        "    \"name\": \"Ankit\",\n",
        "    \"age\": 20,\n",
        "    \"city\": \"Delhi\",\n",
        "    \"marks\": {\"math\": 90, \"science\": 85}\n",
        "}\n",
        "\n",
        "# Loop through dictionary keys\n",
        "print(\"Student Details:\")\n",
        "for key in student:\n",
        "    print(key, \"->\", student[key])\n",
        "\n",
        "# Loop through dictionary values\n",
        "print(\"Values in dictionary:\")\n",
        "for value in student.values():\n",
        "    print(value)\n",
        "\n",
        "# Loop through key-value pairs\n",
        "print(\"Key-Value Pairs:\")\n",
        "for key, value in student.items():\n",
        "    print(f\"{key}: {value}\")\n"
      ],
      "metadata": {
        "colab": {
          "base_uri": "https://localhost:8080/"
        },
        "id": "cS_A2qbe-ZvN",
        "outputId": "32131285-e331-4af1-8ede-bf3be2467938"
      },
      "execution_count": 12,
      "outputs": [
        {
          "output_type": "stream",
          "name": "stdout",
          "text": [
            "Student Details:\n",
            "name -> Ankit\n",
            "age -> 20\n",
            "city -> Delhi\n",
            "marks -> {'math': 90, 'science': 85}\n",
            "Values in dictionary:\n",
            "Ankit\n",
            "20\n",
            "Delhi\n",
            "{'math': 90, 'science': 85}\n",
            "Key-Value Pairs:\n",
            "name: Ankit\n",
            "age: 20\n",
            "city: Delhi\n",
            "marks: {'math': 90, 'science': 85}\n"
          ]
        }
      ]
    },
    {
      "cell_type": "code",
      "source": [
        "import math\n",
        "\n",
        "num1 = 25\n",
        "num2 = 4\n",
        "\n",
        "# Basic operations\n",
        "print(\"Addition:\", num1 + num2)\n",
        "print(\"Subtraction:\", num1 - num2)\n",
        "print(\"Multiplication:\", num1 * num2)\n",
        "print(\"Division:\", num1 / num2)\n",
        "\n",
        "# Power and Square root\n",
        "print(\"Power:\", num1 ** num2)  # 25^4\n",
        "print(\"Square root:\", math.sqrt(num1))\n",
        "\n",
        "# Floor and Ceil\n",
        "print(\"Floor of 3.7:\", math.floor(3.7))\n",
        "print(\"Ceil of 3.2:\", math.ceil(3.2))\n",
        "\n",
        "# Trigonometric functions\n",
        "angle = math.radians(30)  # Convert degrees to radians\n",
        "print(\"Sin(30 degrees):\", math.sin(angle))\n",
        "print(\"Cos(30 degrees):\", math.cos(angle))\n"
      ],
      "metadata": {
        "colab": {
          "base_uri": "https://localhost:8080/"
        },
        "id": "Wncte7x7-cFy",
        "outputId": "a476d72f-dc29-4946-c6d4-23f91b7880ca"
      },
      "execution_count": 13,
      "outputs": [
        {
          "output_type": "stream",
          "name": "stdout",
          "text": [
            "Addition: 29\n",
            "Subtraction: 21\n",
            "Multiplication: 100\n",
            "Division: 6.25\n",
            "Power: 390625\n",
            "Square root: 5.0\n",
            "Floor of 3.7: 3\n",
            "Ceil of 3.2: 4\n",
            "Sin(30 degrees): 0.49999999999999994\n",
            "Cos(30 degrees): 0.8660254037844387\n"
          ]
        }
      ]
    },
    {
      "cell_type": "code",
      "source": [
        "# Simple function\n",
        "def greet(name):\n",
        "    return f\"Hello, {name}!\"\n",
        "\n",
        "print(greet(\"Ankit\"))\n",
        "\n",
        "# Function with default argument\n",
        "def power(base, exp=2):\n",
        "    return base ** exp  # Default exponent is 2\n",
        "\n",
        "print(\"Power (5^3):\", power(5, 3))\n",
        "print(\"Square (4^2):\", power(4))  # Uses default exponent\n",
        "\n",
        "# Function with multiple return values\n",
        "def get_details():\n",
        "    return \"Ankit\", 20, \"Delhi\"  # Returns a tuple\n",
        "\n",
        "name, age, city = get_details()\n",
        "print(\"Name:\", name, \"| Age:\", age, \"| City:\", city)\n"
      ],
      "metadata": {
        "colab": {
          "base_uri": "https://localhost:8080/"
        },
        "id": "783-gbQ5-niM",
        "outputId": "5d58bd8b-16f5-4c97-89d2-768d238e3fe6"
      },
      "execution_count": 14,
      "outputs": [
        {
          "output_type": "stream",
          "name": "stdout",
          "text": [
            "Hello, Ankit!\n",
            "Power (5^3): 125\n",
            "Square (4^2): 16\n",
            "Name: Ankit | Age: 20 | City: Delhi\n"
          ]
        }
      ]
    },
    {
      "cell_type": "code",
      "source": [
        "from datetime import datetime, date, timedelta\n",
        "\n",
        "# Current date and time\n",
        "now = datetime.now()\n",
        "print(\"Current Date and Time:\", now)\n",
        "\n",
        "# Formatting date\n",
        "formatted_date = now.strftime(\"%Y-%m-%d %H:%M:%S\")\n",
        "print(\"Formatted Date:\", formatted_date)\n",
        "\n",
        "# Extracting parts\n",
        "print(\"Year:\", now.year)\n",
        "print(\"Month:\", now.month)\n",
        "print(\"Day:\", now.day)\n",
        "print(\"Hour:\", now.hour)\n",
        "print(\"Minute:\", now.minute)\n",
        "\n",
        "# Creating a specific date\n",
        "dob = date(2000, 5, 15)\n",
        "print(\"Date of Birth:\", dob)\n",
        "\n",
        "# Adding and subtracting days\n",
        "future_date = now + timedelta(days=10)\n",
        "past_date = now - timedelta(days=5)\n",
        "print(\"Future Date (+10 days):\", future_date.strftime(\"%Y-%m-%d\"))\n",
        "print(\"Past Date (-5 days):\", past_date.strftime(\"%Y-%m-%d\"))\n"
      ],
      "metadata": {
        "colab": {
          "base_uri": "https://localhost:8080/"
        },
        "id": "A_CnLJq7-py6",
        "outputId": "43b4fb3d-8b04-4d1d-c07a-f85f20ab15f0"
      },
      "execution_count": 15,
      "outputs": [
        {
          "output_type": "stream",
          "name": "stdout",
          "text": [
            "Current Date and Time: 2025-02-09 13:52:37.871059\n",
            "Formatted Date: 2025-02-09 13:52:37\n",
            "Year: 2025\n",
            "Month: 2\n",
            "Day: 9\n",
            "Hour: 13\n",
            "Minute: 52\n",
            "Date of Birth: 2000-05-15\n",
            "Future Date (+10 days): 2025-02-19\n",
            "Past Date (-5 days): 2025-02-04\n"
          ]
        }
      ]
    },
    {
      "cell_type": "code",
      "source": [
        "text = \"  Python is Amazing!  \"\n",
        "\n",
        "# String length\n",
        "print(\"Length of text:\", len(text))\n",
        "\n",
        "# Case conversion\n",
        "print(\"Uppercase:\", text.upper())\n",
        "print(\"Lowercase:\", text.lower())\n",
        "\n",
        "# Removing spaces\n",
        "print(\"Stripped text:\", text.strip())\n",
        "\n",
        "# Replacing words\n",
        "print(\"Replace 'Python' with 'Coding':\", text.replace(\"Python\", \"Coding\"))\n",
        "\n",
        "# Checking if string starts or ends with a value\n",
        "print(\"Starts with 'Python':\", text.strip().startswith(\"Python\"))\n",
        "print(\"Ends with '!':\", text.strip().endswith(\"!\"))\n",
        "\n",
        "# Splitting and joining\n",
        "words = text.split()  # Split by spaces\n",
        "print(\"Words list:\", words)\n",
        "joined_text = \"-\".join(words)\n",
        "print(\"Joined string:\", joined_text)\n"
      ],
      "metadata": {
        "colab": {
          "base_uri": "https://localhost:8080/"
        },
        "id": "DYCq7PK8-zki",
        "outputId": "03447517-4820-4266-88d6-2b950adc1ed0"
      },
      "execution_count": 10,
      "outputs": [
        {
          "output_type": "stream",
          "name": "stdout",
          "text": [
            "Length of text: 22\n",
            "Uppercase:   PYTHON IS AMAZING!  \n",
            "Lowercase:   python is amazing!  \n",
            "Stripped text: Python is Amazing!\n",
            "Replace 'Python' with 'Coding':   Coding is Amazing!  \n",
            "Starts with 'Python': True\n",
            "Ends with '!': True\n",
            "Words list: ['Python', 'is', 'Amazing!']\n",
            "Joined string: Python-is-Amazing!\n"
          ]
        }
      ]
    }
  ]
}