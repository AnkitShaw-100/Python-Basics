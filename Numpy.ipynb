{
  "nbformat": 4,
  "nbformat_minor": 0,
  "metadata": {
    "colab": {
      "provenance": [],
      "authorship_tag": "ABX9TyOi8rFvMXW4mwd09awa9bZw",
      "include_colab_link": true
    },
    "kernelspec": {
      "name": "python3",
      "display_name": "Python 3"
    },
    "language_info": {
      "name": "python"
    }
  },
  "cells": [
    {
      "cell_type": "markdown",
      "metadata": {
        "id": "view-in-github",
        "colab_type": "text"
      },
      "source": [
        "<a href=\"https://colab.research.google.com/github/AnkitShaw-100/Python-Basics/blob/main/Numpy.ipynb\" target=\"_parent\"><img src=\"https://colab.research.google.com/assets/colab-badge.svg\" alt=\"Open In Colab\"/></a>"
      ]
    },
    {
      "cell_type": "code",
      "execution_count": null,
      "metadata": {
        "id": "Z3fYhvHKay1o"
      },
      "outputs": [],
      "source": [
        "import numpy as np\n"
      ]
    },
    {
      "cell_type": "code",
      "source": [
        "x = [1,2,3,4]\n",
        "y = np.array([1,2,3,4,5])\n",
        "print(y)\n",
        "print(type(y))"
      ],
      "metadata": {
        "colab": {
          "base_uri": "https://localhost:8080/"
        },
        "id": "GYCHA0PzbBlu",
        "outputId": "3ee0b30b-a818-42dd-bb6f-03e99a3da763"
      },
      "execution_count": null,
      "outputs": [
        {
          "output_type": "stream",
          "name": "stdout",
          "text": [
            "[1 2 3 4 5]\n",
            "<class 'numpy.ndarray'>\n"
          ]
        }
      ]
    },
    {
      "cell_type": "code",
      "source": [
        "l = []\n",
        "\n",
        "for i in range(1,5):\n",
        "  t = int(input(\"Enter : \"))\n",
        "  l.append(t)\n",
        "\n",
        "  print(np.array(l))"
      ],
      "metadata": {
        "colab": {
          "base_uri": "https://localhost:8080/"
        },
        "id": "H38i76AKbRx1",
        "outputId": "264097e6-bfb8-4551-cfc0-81e3624cb361"
      },
      "execution_count": null,
      "outputs": [
        {
          "output_type": "stream",
          "name": "stdout",
          "text": [
            "Enter : 1\n",
            "[1]\n",
            "Enter : 2\n",
            "[1 2]\n",
            "Enter : 3\n",
            "[1 2 3]\n",
            "Enter : 4\n",
            "[1 2 3 4]\n"
          ]
        }
      ]
    },
    {
      "cell_type": "code",
      "source": [
        "arr2 = np.array([[1,2,3,4],[1,2,3,4]])\n",
        "print(arr2)\n",
        "print(\"Dimension : \",arr2.ndim)\n"
      ],
      "metadata": {
        "colab": {
          "base_uri": "https://localhost:8080/"
        },
        "id": "rxf3sTGqciWH",
        "outputId": "fec42828-67c8-444e-c997-4c701d2be2f0"
      },
      "execution_count": null,
      "outputs": [
        {
          "output_type": "stream",
          "name": "stdout",
          "text": [
            "[[1 2 3 4]\n",
            " [1 2 3 4]]\n",
            "Dimension :  2\n"
          ]
        }
      ]
    },
    {
      "cell_type": "code",
      "source": [
        "arr3 = np.array([[[1,2,3,4],[1,2,3,4],[1,2,3,4]]])\n",
        "print(arr3)\n",
        "print(\"Dimension : \",arr3.ndim)"
      ],
      "metadata": {
        "colab": {
          "base_uri": "https://localhost:8080/"
        },
        "id": "kHFoaQ5CdXH-",
        "outputId": "74b234c3-dbd8-473d-c1ad-3a644e4ef6b0"
      },
      "execution_count": null,
      "outputs": [
        {
          "output_type": "stream",
          "name": "stdout",
          "text": [
            "[[[1 2 3 4]\n",
            "  [1 2 3 4]\n",
            "  [1 2 3 4]]]\n",
            "Dimension :  3\n"
          ]
        }
      ]
    },
    {
      "cell_type": "code",
      "source": [
        "arr_zero = np.zeros(4)\n",
        "arr_zero1 = np.zeros((2,5))\n",
        "print(arr_zero)\n",
        "print(arr_zero1)"
      ],
      "metadata": {
        "colab": {
          "base_uri": "https://localhost:8080/"
        },
        "id": "f49_NwDReMmB",
        "outputId": "6c97dc4b-8f5a-4170-cf65-28033a2d1aeb"
      },
      "execution_count": null,
      "outputs": [
        {
          "output_type": "stream",
          "name": "stdout",
          "text": [
            "[0. 0. 0. 0.]\n",
            "[[0. 0. 0. 0. 0.]\n",
            " [0. 0. 0. 0. 0.]]\n"
          ]
        }
      ]
    },
    {
      "cell_type": "code",
      "source": [
        "arr_ones = np.ones(4)\n",
        "arr_ones1 = np.ones((2,5))\n",
        "print(arr_ones)\n",
        "print(arr_ones1)"
      ],
      "metadata": {
        "colab": {
          "base_uri": "https://localhost:8080/"
        },
        "id": "mWfdTd2uexGo",
        "outputId": "d9067036-5a99-482b-9874-c03adf587078"
      },
      "execution_count": null,
      "outputs": [
        {
          "output_type": "stream",
          "name": "stdout",
          "text": [
            "[1. 1. 1. 1.]\n",
            "[[1. 1. 1. 1. 1.]\n",
            " [1. 1. 1. 1. 1.]]\n"
          ]
        }
      ]
    },
    {
      "cell_type": "code",
      "source": [
        "arr_empty = np.empty(4)\n",
        "arr_empty1 = np.empty((2,5))\n",
        "print(arr_empty)\n",
        "print(arr_empty1)"
      ],
      "metadata": {
        "colab": {
          "base_uri": "https://localhost:8080/"
        },
        "id": "dP5Q7zZre8yf",
        "outputId": "66abdbbb-4a57-42c0-c2f2-d60a6b4c14a7"
      },
      "execution_count": null,
      "outputs": [
        {
          "output_type": "stream",
          "name": "stdout",
          "text": [
            "[1. 1. 1. 1.]\n",
            "[[1. 1. 1. 1. 1.]\n",
            " [1. 1. 1. 1. 1.]]\n"
          ]
        }
      ]
    },
    {
      "cell_type": "code",
      "source": [
        "arr_range = np.arange(4)\n",
        "print(arr_range)"
      ],
      "metadata": {
        "colab": {
          "base_uri": "https://localhost:8080/"
        },
        "id": "DX8fUWsIfQQF",
        "outputId": "0c43f6ad-408e-4aff-8bc9-7e3fda0e9f84"
      },
      "execution_count": null,
      "outputs": [
        {
          "output_type": "stream",
          "name": "stdout",
          "text": [
            "[0 1 2 3]\n"
          ]
        }
      ]
    },
    {
      "cell_type": "code",
      "source": [
        "arr_dia = np.eye(4)\n",
        "print(arr_dia)"
      ],
      "metadata": {
        "colab": {
          "base_uri": "https://localhost:8080/"
        },
        "id": "7vrXQzLrfWj4",
        "outputId": "3f32afc5-31dd-4060-8ef8-2dfbd1f47e05"
      },
      "execution_count": null,
      "outputs": [
        {
          "output_type": "stream",
          "name": "stdout",
          "text": [
            "[[1. 0. 0. 0.]\n",
            " [0. 1. 0. 0.]\n",
            " [0. 0. 1. 0.]\n",
            " [0. 0. 0. 1.]]\n"
          ]
        }
      ]
    },
    {
      "cell_type": "code",
      "source": [
        "arr_lin = np.linspace(0, 10, num=5)\n",
        "print(arr_lin)"
      ],
      "metadata": {
        "colab": {
          "base_uri": "https://localhost:8080/"
        },
        "id": "Tt1GuKYzfb3V",
        "outputId": "5ca559d4-6748-4dbf-9886-5b4cd2aad6b0"
      },
      "execution_count": null,
      "outputs": [
        {
          "output_type": "stream",
          "name": "stdout",
          "text": [
            "[ 0.   2.5  5.   7.5 10. ]\n"
          ]
        }
      ]
    },
    {
      "cell_type": "code",
      "source": [
        "var = np.random.rand(4)\n",
        "var_1 = np.random.rand(2,5)\n",
        "print(\"1D : \",var)\n",
        "print(\"2D : \",var_1)"
      ],
      "metadata": {
        "colab": {
          "base_uri": "https://localhost:8080/"
        },
        "id": "A5URYCLJjN6r",
        "outputId": "e01f4e06-0b0a-4126-ef9b-61fca509c8f9"
      },
      "execution_count": null,
      "outputs": [
        {
          "output_type": "stream",
          "name": "stdout",
          "text": [
            "1D :  [0.25914113 0.03368927 0.64533946 0.958626  ]\n",
            "2D :  [[0.62708936 0.494884   0.21395024 0.74972608 0.66999978]\n",
            " [0.52781976 0.22271237 0.44882607 0.88958559 0.27173286]]\n"
          ]
        }
      ]
    },
    {
      "cell_type": "code",
      "source": [
        "var2 = np.random.randn(4)\n",
        "var_2 = np.random.randn(2,5)\n",
        "print(\"1D : \",var2)\n",
        "print(\"2D : \",var_2)"
      ],
      "metadata": {
        "colab": {
          "base_uri": "https://localhost:8080/"
        },
        "id": "zZIgJ4m6jgVk",
        "outputId": "20262829-196d-4de9-c819-8236241b8819"
      },
      "execution_count": null,
      "outputs": [
        {
          "output_type": "stream",
          "name": "stdout",
          "text": [
            "1D :  [ 1.29286952 -1.22927814  0.58739613  2.65520162]\n",
            "2D :  [[ 1.1031761   0.08319079  0.37218864  0.34549703  1.39090097]\n",
            " [-0.80467772  0.24388445 -0.78117598 -0.90182347 -1.31407146]]\n"
          ]
        }
      ]
    },
    {
      "cell_type": "code",
      "source": [
        "ranf = np.random.randint(1,10,5)\n",
        "print(ranf)\n"
      ],
      "metadata": {
        "colab": {
          "base_uri": "https://localhost:8080/"
        },
        "id": "FIg7S7q1j3U8",
        "outputId": "bbd5c1aa-739c-43bc-f2cb-be304b731fd1"
      },
      "execution_count": null,
      "outputs": [
        {
          "output_type": "stream",
          "name": "stdout",
          "text": [
            "[3 4 6 2 5]\n"
          ]
        }
      ]
    },
    {
      "cell_type": "code",
      "source": [
        "var = np.array([1,2,3,4])\n",
        "print(\"Datatype : \", var.dtype)"
      ],
      "metadata": {
        "colab": {
          "base_uri": "https://localhost:8080/"
        },
        "id": "EAPXmonukao4",
        "outputId": "3ab72d9e-94bb-4402-9feb-b2761cdeaa34"
      },
      "execution_count": null,
      "outputs": [
        {
          "output_type": "stream",
          "name": "stdout",
          "text": [
            "Datatype :  int64\n"
          ]
        }
      ]
    },
    {
      "cell_type": "code",
      "source": [
        "a = [1,2,3,4,5]\n",
        "b = [10,11,12,13,14]\n",
        "\n",
        "sum = np.array(a) + np.array(b)\n",
        "print(\"Additon :\",sum)\n",
        "\n",
        "sub = np.array(a) - np.array(b)\n",
        "print(\"Subtraction :\",sub)\n",
        "\n",
        "mul = np.array(a) * np.array(b)\n",
        "print(\"Multiplication :\",mul)\n",
        "\n",
        "div = np.array(a) / np.array(b)\n",
        "print(\"Division :\",div)\n",
        "\n",
        "mod = np.array(a) % np.array(b)\n",
        "print(\"Modulus :\",mod)\n",
        "\n",
        "exp = np.array(a) ** np.array(b)\n",
        "print(\"Exponent :\",exp)\n",
        "\n",
        "log = np.log(np.array(a))\n",
        "print(\"Logarithm :\",log)"
      ],
      "metadata": {
        "colab": {
          "base_uri": "https://localhost:8080/"
        },
        "id": "JKBOnCUulAJF",
        "outputId": "75715231-38e3-4455-d768-af80e5178930"
      },
      "execution_count": null,
      "outputs": [
        {
          "output_type": "stream",
          "name": "stdout",
          "text": [
            "Additon : [11 13 15 17 19]\n",
            "Subtraction : [-9 -9 -9 -9 -9]\n",
            "Multiplication : [10 22 36 52 70]\n",
            "Division : [0.1        0.18181818 0.25       0.30769231 0.35714286]\n",
            "Modulus : [1 2 3 4 5]\n",
            "Exponent : [         1       2048     531441   67108864 6103515625]\n",
            "Logarithm : [0.         0.69314718 1.09861229 1.38629436 1.60943791]\n"
          ]
        }
      ]
    }
  ]
}